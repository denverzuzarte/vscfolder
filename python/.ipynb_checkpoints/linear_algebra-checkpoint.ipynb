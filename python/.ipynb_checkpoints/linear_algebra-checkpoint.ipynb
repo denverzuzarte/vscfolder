{
 "cells": [
  {
   "cell_type": "code",
   "execution_count": null,
   "id": "1f09b72c",
   "metadata": {},
   "outputs": [],
   "source": [
    "# this is for practising linear algebra\n",
    "import numpy as np"
   ]
  },
  {
   "cell_type": "code",
   "execution_count": null,
   "id": "17bb7085",
   "metadata": {},
   "outputs": [],
   "source": [
    "A=np.array([\n",
    "    [1, 2, 3],\n",
    "    [4, 5, 6],\n",
    "    [7, 8, 9]\n",
    "])\n",
    "B = np.array([\n",
    "    [9, 8, 7],\n",
    "    [6, 5, 4],\n",
    "    [3, 2, 1]\n",
    "])"
   ]
  },
  {
   "cell_type": "code",
   "execution_count": null,
   "id": "69051ce4",
   "metadata": {},
   "outputs": [],
   "source": [
    "# Multiply the matrices\n",
    "C = np.dot(A, B)\n",
    "\n",
    "print(\"Matrix A:\\n\", A)\n",
    "print(\"Matrix B:\\n\", B)\n",
    "print(\"A x B =\\n\", C)"
   ]
  }
 ],
 "metadata": {
  "language_info": {
   "name": "python"
  }
 },
 "nbformat": 4,
 "nbformat_minor": 5
}
