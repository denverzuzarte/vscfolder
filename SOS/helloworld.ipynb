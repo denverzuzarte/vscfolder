{
 "cells": [
  {
   "cell_type": "markdown",
   "id": "d85a4942",
   "metadata": {},
   "source": [
    "# Mark the problem to circuits and operators"
   ]
  },
  {
   "cell_type": "code",
   "execution_count": null,
   "id": "4d9d542e",
   "metadata": {
    "vscode": {
     "languageId": "plaintext"
    }
   },
   "outputs": [],
   "source": [
    "import qiskit\n",
    "print(qiskit.__qiskit_version__)\n"
   ]
  }
 ],
 "metadata": {
  "language_info": {
   "name": "python"
  }
 },
 "nbformat": 4,
 "nbformat_minor": 5
}
